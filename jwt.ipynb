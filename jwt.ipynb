{
 "cells": [
  {
   "cell_type": "code",
   "execution_count": 156,
   "metadata": {},
   "outputs": [],
   "source": [
    "import base64\n",
    "import hashlib\n",
    "\n",
    "from json import loads as jl\n",
    "from json import dumps as jd\n",
    "\n",
    "import hmac\n",
    "\n",
    "enc = \"utf-8\""
   ]
  },
  {
   "cell_type": "code",
   "execution_count": 157,
   "metadata": {},
   "outputs": [],
   "source": [
    "def byte2base64(x):\n",
    "    return base64.urlsafe_b64encode(x).decode(enc)\n",
    "\n",
    "def str2base64(x):\n",
    "    return b2b64(x.encode(enc))"
   ]
  },
  {
   "cell_type": "code",
   "execution_count": 158,
   "metadata": {},
   "outputs": [],
   "source": [
    "class User(object):\n",
    "    def __init__(self, id, name, perm):\n",
    "        self.id = id\n",
    "        self.name = name\n",
    "        self.perm = perm\n",
    "        \n",
    "    def to_json(self):\n",
    "        return {\n",
    "            \"id\": self.id, \n",
    "            \"username\": self.name, \n",
    "            \"permission\": self.perm\n",
    "        }"
   ]
  },
  {
   "cell_type": "code",
   "execution_count": 197,
   "metadata": {},
   "outputs": [],
   "source": [
    "import binascii\n",
    "\n",
    "# jsonомешалка мешает бетон\n",
    "# \n",
    "def dumps(j):\n",
    "    return jd(j, separators=(',\\r\\n ', ':'))\n",
    "\n",
    "def create_raw_header(alg, typ):\n",
    "    return dumps({\"typ\": typ, \"alg\": alg})\n",
    "\n",
    "def create_encoded_header(raw):\n",
    "    return byte2base64(raw.encode(enc)).replace('=', '')\n",
    "\n",
    "def create_raw_payload(data):\n",
    "    return dumps(data)\n",
    "\n",
    "def create_encoded_payload(raw):\n",
    "    encoded = raw.encode(enc)\n",
    "    return byte2base64(encoded).replace('=', '')\n",
    "\n",
    "def encode_hmac(b, key):\n",
    "    return byte2base64(hmac.new(\n",
    "        key.encode(enc),\n",
    "        msg=b,\n",
    "        digestmod=hashlib.sha256\n",
    "    ).digest()).replace('=', '')"
   ]
  },
  {
   "cell_type": "code",
   "execution_count": null,
   "metadata": {},
   "outputs": [],
   "source": [
    "№"
   ]
  },
  {
   "cell_type": "code",
   "execution_count": 168,
   "metadata": {},
   "outputs": [],
   "source": [
    "def massert(a, b):\n",
    "    la = len(a)\n",
    "    lb = len(b)\n",
    "    if la < lb:\n",
    "        raise AssertionError(\"a is shorter\")\n",
    "    if lb < la:\n",
    "        raise AssertionError(\"b is shorter\")\n",
    "    for i in range(la):\n",
    "        if a[i] != b[i]:\n",
    "            raise AssertionError(f\"missmatch on index {i} {a[i]} vs {b[i]}\")"
   ]
  },
  {
   "cell_type": "code",
   "execution_count": 195,
   "metadata": {},
   "outputs": [],
   "source": [
    "# tests\n",
    "\n",
    "header_data = create_raw_header(\"HS256\", \"JWT\")\n",
    "header_hash = \"eyJ0eXAiOiJKV1QiLA0KICJhbGciOiJIUzI1NiJ9\"\n",
    "\n",
    "payload_data = create_raw_payload({\n",
    "    \"iss\":\"joe\",\n",
    "    \"exp\":1300819380,\n",
    "    \"http://example.com/is_root\":True\n",
    "})\n",
    "payload_hash = \"eyJpc3MiOiJqb2UiLA0KICJleHAiOjEzMDA4MTkzODAsDQogImh0dHA6Ly9leGFtcGxlLmNvbS9pc19yb290Ijp0cnVlfQ\"\n",
    "\n",
    "massert(header_hash, create_encoded_header(header_data)) # header hash\n",
    "massert(payload_hash, create_encoded_payload(payload_data)) # payload hash"
   ]
  },
  {
   "cell_type": "code",
   "execution_count": 196,
   "metadata": {},
   "outputs": [],
   "source": [
    "# jwt.io test sign\n",
    "# note: jwt.io uses no line separator in json notation.\n",
    "# there's only , between lines\n",
    "# so, hash values doesn't equals to rfc's ones\n",
    "# but rfc unclearly explains sign phase\n",
    "# so, there's a test to check how to sign those parts\n",
    "# note: hmac(header . payload, secret) -> base64 with out '='\n",
    "# p.s. sha256 used here\n",
    "\n",
    "a = b\"eyJhbGciOiJIUzI1NiIsInR5cCI6IkpXVCJ9\"\n",
    "b = b\"eyJzdWIiOiIxMjM0NTY3ODkwIiwibmFtZSI6IkpvaG4gRG9lIiwiaWF0IjoxNTE2MjM5MDIyfQ\"\n",
    "ab = a + b\".\" + b\n",
    "\n",
    "massert(encode_hmac(ab, '6741'), \"8aRJfpBioIVCF43SXxRoVH_t756PGGtDavQgUXQ9PGU\")"
   ]
  }
 ],
 "metadata": {
  "kernelspec": {
   "display_name": "jwt",
   "language": "python",
   "name": "jwt"
  },
  "language_info": {
   "codemirror_mode": {
    "name": "ipython",
    "version": 3
   },
   "file_extension": ".py",
   "mimetype": "text/x-python",
   "name": "python",
   "nbconvert_exporter": "python",
   "pygments_lexer": "ipython3",
   "version": "3.8.2"
  }
 },
 "nbformat": 4,
 "nbformat_minor": 4
}
